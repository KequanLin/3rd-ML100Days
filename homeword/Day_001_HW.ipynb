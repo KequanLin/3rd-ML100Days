{
 "cells": [
  {
   "cell_type": "markdown",
   "metadata": {},
   "source": [
    "## 練習時間\n",
    "#### 請寫一個函式用來計算 Mean Square Error\n",
    "$ MSE = \\frac{1}{n}\\sum_{i=1}^{n}{(Y_i - \\hat{Y}_i)^2} $\n",
    "\n",
    "### Hint: [如何取平方](https://googoodesign.gitbooks.io/-ezpython/unit-1.html)"
   ]
  },
  {
   "cell_type": "markdown",
   "metadata": {},
   "source": [
    "# [作業目標]\n",
    "- 仿造範例的MAE函數, 自己寫一個MSE函數(參考上面公式)"
   ]
  },
  {
   "cell_type": "markdown",
   "metadata": {},
   "source": [
    "# [作業重點]\n",
    "- 注意程式的縮排\n",
    "- 是否能將數學公式, 轉換為 Python 的函式組合? (In[2], Out[2])"
   ]
  },
  {
   "cell_type": "code",
   "execution_count": 1,
   "metadata": {},
   "outputs": [],
   "source": [
    "# 載入基礎套件與代稱\n",
    "import numpy as np\n",
    "import matplotlib.pyplot as plt"
   ]
  },
  {
   "cell_type": "code",
   "execution_count": 6,
   "metadata": {},
   "outputs": [],
   "source": [
    "def mean_absolute_error(y, yp):\n",
    "    \"\"\"\n",
    "    計算 MAE\n",
    "    Args:\n",
    "        - y: 實際值\n",
    "        - yp: 預測值\n",
    "    Return:\n",
    "        - mae: MAE\n",
    "    \"\"\"\n",
    "    mae = MAE = sum(abs(y - yp)) / len(y)\n",
    "    return mae\n",
    "\n",
    "# 定義 mean_squared_error 這個函數, 計算並傳回 MSE\n",
    "def mean_squared_error(y,yp):\n",
    "    \"\"\"\n",
    "    請完成這個 Function 後往下執行\n",
    "    \"\"\"\n",
    "    mse = MSE = sum((y-yp)**2) / len(y)\n",
    "    return mse"
   ]
  },
  {
   "cell_type": "code",
   "execution_count": 7,
   "metadata": {},
   "outputs": [
    {
     "data": {
      "image/png": "[encoded data removed]",
      "text/plain": [
       "<Figure size 432x288 with 1 Axes>"
      ]
     },
     "metadata": {
      "needs_background": "light"
     },
     "output_type": "display_data"
    }
   ],
   "source": [
    "# 與範例相同, 不另外解說\n",
    "w = 3\n",
    "b = 0.5\n",
    "x_lin = np.linspace(0, 100, 101)\n",
    "y = (x_lin + np.random.randn(101) * 5) * w + b\n",
    "\n",
    "plt.plot(x_lin, y, 'b.', label = 'data points')\n",
    "plt.title(\"Assume we have data points\")\n",
    "plt.legend(loc = 2)\n",
    "plt.show()"
   ]
  },
  {
   "cell_type": "code",
   "execution_count": 8,
   "metadata": {},
   "outputs": [
    {
     "data": {
      "image/png": "[encoded data removed]",
      "text/plain": [
       "<Figure size 432x288 with 1 Axes>"
      ]
     },
     "metadata": {
      "needs_background": "light"
     },
     "output_type": "display_data"
    }
   ],
   "source": [
    "# 與範例相同, 不另外解說\n",
    "y_hat = x_lin * w + b\n",
    "plt.plot(x_lin, y, 'b.', label = 'data')\n",
    "plt.plot(x_lin, y_hat, 'r-', label = 'prediction')\n",
    "plt.title(\"Assume we have data points (And the prediction)\")\n",
    "plt.legend(loc = 2)\n",
    "plt.show()"
   ]
  },
  {
   "cell_type": "code",
   "execution_count": 9,
   "metadata": {},
   "outputs": [
    {
     "name": "stdout",
     "output_type": "stream",
     "text": [
      "The Mean squared error is 211.831\n",
      "The Mean absolute error is 11.859\n"
     ]
    }
   ],
   "source": [
    "# 執行 Function, 確認有沒有正常執行\n",
    "MSE = mean_squared_error(y, y_hat)\n",
    "MAE = mean_absolute_error(y, y_hat)\n",
    "print(\"The Mean squared error is %.3f\" % (MSE))\n",
    "print(\"The Mean absolute error is %.3f\" % (MAE))"
   ]
  },
  {
   "cell_type": "code",
   "execution_count": 11,
   "metadata": {},
   "outputs": [],
   "source": [
    "# [作業2]\n",
    "#請上 Kaggle, 在 Competitions 或 Dataset 中找一組競賽或資料並寫下：\n",
    "\n",
    "#1. 你選的這組資料為何重要\n",
    "  \"\"\"\"\n",
    "   Q: 對人類有益，提前發現並預防在印度患有糖尿病性視網膜病變的人，不僅可以幫助預防終生失明，\n",
    "      而且這些模型可能會被用於檢測未來的其他類型的疾病，如青光眼和黃斑變性。\"\n",
    "  \"\"\"\"\n",
    "\n",
    "#2. 資料從何而來 (tips: 譬如提供者是誰、以什麼方式蒐集)\n",
    "  \"Q: 印度的Aravind眼科醫院，Aravind技術人員前往這些農村地區捕捉圖像\"\n",
    "    \n",
    "#3. 蒐集而來的資料型態為何\n",
    "  \"Q: 圖像\"\n",
    "#4. 這組資料想解決的問題如何評估\n",
    "  \"\"\"\n",
    "   Q: 提交的評分基於二次加權kappa，它衡量兩個評級之間的一致性。該度量通常從0（評估者之間的隨機協議）到1（評估者之間的完全一致）變化。\n",
    "      如果評估者之間的一致性低於偶然預期，則該度量可能低於0.在人類評估者分配的分數和預測分數之間計算二次加權kappa。\n",
    "      圖像有五種可能的等級，0,1,2,3,4。每個圖像的特徵在於元組（e，e），其對應於由Rater A（人）和Rater B（預測）得分。\n",
    "      二次加權kappa計算如下。首先，構造N×N直方圖矩陣O，使得O對應於通過A接收等級i並且將等級j接收到B的圖像的數量。\n",
    "      基於N的N×N矩陣計算權重w關於評分者得分的差異：\n",
    "      假設評級分數之間沒有相關性，計算預期評級E的N×N直方圖矩陣。這被計算為每個評估者的評級直方圖矢量之間的外部產品，\n",
    "      歸一化使得E和O具有相同的總和。\n",
    "  \"\"\"\n",
    "    "
   ]
  },
  {
   "cell_type": "code",
   "execution_count": null,
   "metadata": {},
   "outputs": [],
   "source": [
    "# [作業3]\n",
    "#想像你經營一個自由載客車隊，你希望能透過數據分析以提升業績，請你思考並描述你如何規劃整體的分析/解決方案：\n",
    "\n",
    "#1. 核心問題為何 (tips：如何定義 「提升業績 & 你的假設」)\n",
    "  \"Q: 假設車子跑的里程成本相同，定義提升業績為每日載客里程數上升\"\n",
    "#2. 資料從何而來 (tips：哪些資料可能會對你想問的問題產生影響 & 資料如何蒐集)\n",
    "  \"Q: 由駕駛員使用GPS收集每台車的日里程數與路線，車子閒置時間\"\n",
    "#3. 蒐集而來的資料型態為何\n",
    "  \"Q: GPS資料\"\n",
    "#4. 你要回答的問題，其如何評估 (tips：你的假設如何驗證)\n",
    "  \"Q: 設定 業績 = 車子里程數 / 車子使用時間；當此數值越大，業績提升的越多\""
   ]
  }
 ],
 "metadata": {
  "anaconda-cloud": {},
  "kernelspec": {
   "display_name": "Python 3",
   "language": "python",
   "name": "python3"
  },
  "language_info": {
   "codemirror_mode": {
    "name": "ipython",
    "version": 3
   },
   "file_extension": ".py",
   "mimetype": "text/x-python",
   "name": "python",
   "nbconvert_exporter": "python",
   "pygments_lexer": "ipython3",
   "version": "3.7.3"
  }
 },
 "nbformat": 4,
 "nbformat_minor": 1
}
